1234
{
 "cells": [
  {
   "cell_type": "code",
   "execution_count": 1,
   "metadata": {},
   "outputs": [
    {
     "data": {
      "text/plain": [
       "'4.5.5'"
      ]
     },
     "execution_count": 1,
     "metadata": {},
     "output_type": "execute_result"
    }
   ],
   "source": [
    "import cv2\n",
    "import mediapipe as mp\n",
    "cv2.__version__"
   ]
  },
  {
   "cell_type": "code",
   "execution_count": 2,
   "metadata": {},
   "outputs": [],
   "source": [
    "cap = cv2.VideoCapture(0)\n",
    "mp_Hands = mp.solutions.hands\n",
    "hands = mp_Hands.Hands(static_image_mode=False,\n",
    "                      max_num_hands=2,\n",
    "                      min_detection_confidence=0.5,\n",
    "                      min_tracking_confidence=0.5)\n",
    "mpDraw = mp.solutions.drawing_utils\n",
    "finger_Coord = [(8, 6), (12, 10), (16, 14), (20, 18)] #kordniat yang dicatat jari\n",
    "thumb_Coord = (4,2) #jempol"
   ]
  },
  {
   "cell_type": "code",
   "execution_count": null,
   "metadata": {},
   "outputs": [],
   "source": [
    "while True:\n",
    "    #mendeteksi tangan untuk dijadikan objek\n",
    "    success, image = cap.read()\n",
    "    RGB_image = cv2.cvtColor(image, cv2.COLOR_BGR2RGB) #cv2.cvtColor\n",
    "    results = hands.process(RGB_image)\n",
    "    multiLandMarks = results.multi_hand_landmarks\n",
    "    if multiLandMarks:\n",
    "        handList = []\n",
    "        for handLms in multiLandMarks:\n",
    "            mpDraw.draw_landmarks(image, handLms, mp_Hands.HAND_CONNECTIONS)\n",
    "            \n",
    "            #membetnuk kerangka tapi mengambil kordinat\n",
    "            for idx, lm in enumerate(handLms.landmark):\n",
    "                  h, w, c = image.shape\n",
    "                  cx, cy = int(lm.x * w), int(lm.y * h)\n",
    "                  handList.append((cx, cy))\n",
    "       \n",
    "       #poin poin di image\n",
    "        for point in handList:\n",
    "            cv2.circle(image, point, 3, (255,0,255), cv2.FILLED)\n",
    "        upCount = 0\n",
    "        for coordinate in finger_Coord:\n",
    "            if handList[coordinate[0]][1] < handList[coordinate[1]][1]:\n",
    "                upCount += 1\n",
    "        if handList[thumb_Coord[0]][0] > handList[thumb_Coord[1]][0]:\n",
    "             upCount += 1\n",
    "        cv2.putText(image, str(upCount), (75,150), cv2.FONT_HERSHEY_PLAIN, 10, (255,0,255), 10)\n",
    "\n",
    "    cv2.imshow(\"Counting number of fingers\", image)\n",
    "    cv2.waitKey(1)"
   ]
  },
  {
   "cell_type": "code",
   "execution_count": null,
   "metadata": {},
   "outputs": [],
   "source": [
    "# import cv2\n",
    "# import mediapipe as mp\n",
    "# import time\n",
    "\n",
    "# cap = cv2.VideoCapture(0)\n",
    "\n",
    "# mpHands = mp.solutions.hands\n",
    "# hands = mpHands.Hands(static_image_mode=False,\n",
    "#                       max_num_hands=2,\n",
    "#                       min_detection_confidence=0.5,\n",
    "#                       min_tracking_confidence=0.5)\n",
    "# mpDraw = mp.solutions.drawing_utils\n",
    "\n",
    "# pTime = 0\n",
    "# cTime = 0\n",
    "\n",
    "# while True:\n",
    "#     success, img = cap.read()\n",
    "#     imgRGB = cv2.cvtColor(img, cv2.COLOR_BGR2RGB)\n",
    "#     results = hands.process(imgRGB)\n",
    "#     #print(results.multi_hand_landmarks)\n",
    "#     if results.multi_hand_landmarks:\n",
    "#         handList = []\n",
    "#         for handLms in results.multi_hand_landmarks:\n",
    "#             mpDraw.draw_landmarks(img, handLms, mpHands.HAND_CONNECTIONS)\n",
    "#             for id, lm in enumerate(handLms.landmark):\n",
    "#                 #print(id,lm)\n",
    "#                 h, w, c = img.shape\n",
    "#                 cx, cy = int(lm.x *w), int(lm.y*h)\n",
    "#                 #if id ==0:\n",
    "#                 cv2.circle(img, (cx,cy), 3, (255,0,255), cv2.FILLED)\n",
    "#                 handList.append((cx, cy))\n",
    "           \n",
    "\n",
    "\n",
    "#     cTime = time.time()\n",
    "#     fps = 1/(cTime-pTime)\n",
    "#     pTime = cTime\n",
    "\n",
    "#     cv2.putText(img,str(int(fps)), (10,70), cv2.FONT_HERSHEY_PLAIN, 3, (255,0,255), 3)\n",
    "\n",
    "#     cv2.imshow(\"Image\", img)\n",
    "#     cv2.waitKey(1)"
   ]
  },
  {
   "cell_type": "code",
   "execution_count": null,
   "metadata": {},
   "outputs": [],
   "source": []
  }
 ],
 "metadata": {
  "kernelspec": {
   "display_name": "Python 3",
   "language": "python",
   "name": "python3"
  },
  "language_info": {
   "codemirror_mode": {
    "name": "ipython",
    "version": 3
   },
   "file_extension": ".py",
   "mimetype": "text/x-python",
   "name": "python",
   "nbconvert_exporter": "python",
   "pygments_lexer": "ipython3",
   "version": "3.8.5"
  }
 },
 "nbformat": 4,
 "nbformat_minor": 4
}
